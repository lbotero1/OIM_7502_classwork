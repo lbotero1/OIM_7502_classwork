{
 "cells": [
  {
   "cell_type": "markdown",
   "id": "9383bafa",
   "metadata": {},
   "source": [
    "### Python Programming Concepts"
   ]
  },
  {
   "cell_type": "markdown",
   "id": "17df7d6e",
   "metadata": {},
   "source": [
    "#### 1. Create a variable to store the value 500 for sales"
   ]
  },
  {
   "cell_type": "code",
   "execution_count": 2,
   "id": "a5f43c2f",
   "metadata": {},
   "outputs": [
    {
     "name": "stdout",
     "output_type": "stream",
     "text": [
      "500\n"
     ]
    }
   ],
   "source": [
    "sales = 500\n",
    "\n",
    "print(sales)"
   ]
  },
  {
   "cell_type": "markdown",
   "id": "6dc8b9ea",
   "metadata": {},
   "source": [
    "#### 2. Create a variable to store several values:  \n",
    "* sales: 500, 475, 625\n",
    "* integers 1 - 9 "
   ]
  },
  {
   "cell_type": "code",
   "execution_count": 9,
   "id": "902fe3bd",
   "metadata": {},
   "outputs": [
    {
     "name": "stdout",
     "output_type": "stream",
     "text": [
      "(500, 475, 625)\n",
      "(1, 2, 3, 4, 5, 6, 7, 8, 9)\n"
     ]
    }
   ],
   "source": [
    "sales = [500,475,625]\n",
    "integers = [1,2,3,4,5,6,7,8,9]\n",
    "\n",
    "print(sales)\n",
    "print(integers)"
   ]
  },
  {
   "cell_type": "markdown",
   "id": "62e55953",
   "metadata": {},
   "source": [
    "#### 3. Create a variable to store the names and email addresses for a number of customers\n",
    "* John, john@some.com; Ann, ann@some.com"
   ]
  },
  {
   "cell_type": "code",
   "execution_count": 39,
   "id": "03f2b161",
   "metadata": {
    "scrolled": true
   },
   "outputs": [
    {
     "name": "stdout",
     "output_type": "stream",
     "text": [
      "Ann\n",
      "ann@some.com\n"
     ]
    }
   ],
   "source": [
    "customers = [('John', 'john@some.com'),('Ann', 'ann@some.com')]\n",
    "\n",
    "for customers in customers:\n",
    "    name, email = customer\n",
    "\n",
    "print(name)\n",
    "print(email)\n",
    "\n",
    "# Professor, I don't know why it isn't printing John, only Ann"
   ]
  },
  {
   "cell_type": "markdown",
   "id": "9741d762",
   "metadata": {},
   "source": [
    "#### 4. Use Python to generate a random value based on each of following:\n",
    "1. between 0 and 1\n",
    "2. the standard normal distribution (rounded to two decimal places)\n",
    "3. a value between 1 and 10\n",
    "4. either H or T"
   ]
  },
  {
   "cell_type": "code",
   "execution_count": 70,
   "id": "f004d7b5",
   "metadata": {},
   "outputs": [],
   "source": [
    "import random"
   ]
  },
  {
   "cell_type": "code",
   "execution_count": 25,
   "id": "a8efc6fc",
   "metadata": {},
   "outputs": [
    {
     "name": "stdout",
     "output_type": "stream",
     "text": [
      "0.5749690400685237\n"
     ]
    }
   ],
   "source": [
    "random_value_0_to_1 = random.random()\n",
    "\n",
    "print(random_value_0_to_1)"
   ]
  },
  {
   "cell_type": "code",
   "execution_count": 26,
   "id": "1a29e601",
   "metadata": {},
   "outputs": [
    {
     "name": "stdout",
     "output_type": "stream",
     "text": [
      "-0.36\n"
     ]
    }
   ],
   "source": [
    "random_value_standard_nd = round(random.gauss(0, 1), 2)\n",
    "\n",
    "print(random_value_standard_nd)"
   ]
  },
  {
   "cell_type": "code",
   "execution_count": 27,
   "id": "3a150c3e",
   "metadata": {},
   "outputs": [
    {
     "name": "stdout",
     "output_type": "stream",
     "text": [
      "2\n"
     ]
    }
   ],
   "source": [
    "random_value_1_to_10 = random.randint(1, 10)\n",
    "\n",
    "print(random_value_1_to_10)"
   ]
  },
  {
   "cell_type": "code",
   "execution_count": 28,
   "id": "f80f4b3b",
   "metadata": {},
   "outputs": [
    {
     "name": "stdout",
     "output_type": "stream",
     "text": [
      "H\n"
     ]
    }
   ],
   "source": [
    "random_h_or_t = random.choice(['H', 'T'])\n",
    "\n",
    "print(random_h_or_t)"
   ]
  },
  {
   "cell_type": "markdown",
   "id": "7eddf06a",
   "metadata": {},
   "source": [
    "#### 5. Use Python to determine your current working directory"
   ]
  },
  {
   "cell_type": "code",
   "execution_count": 29,
   "id": "d8f79474",
   "metadata": {},
   "outputs": [
    {
     "name": "stdout",
     "output_type": "stream",
     "text": [
      "/Users/linambotero/OIM_7502_classwork\n"
     ]
    }
   ],
   "source": [
    "import os\n",
    "\n",
    "current_directory = os.getcwd()\n",
    "\n",
    "print(current_directory)"
   ]
  },
  {
   "cell_type": "markdown",
   "id": "fc43ec50",
   "metadata": {},
   "source": [
    "#### 6. Use Python to determine how many days until New Year's Day"
   ]
  },
  {
   "cell_type": "code",
   "execution_count": 31,
   "id": "13f630fe",
   "metadata": {},
   "outputs": [
    {
     "name": "stdout",
     "output_type": "stream",
     "text": [
      "348\n"
     ]
    }
   ],
   "source": [
    "from datetime import datetime\n",
    "\n",
    "current_date = datetime.now()\n",
    "\n",
    "new_years_eve = datetime(current_date.year, 12, 31)\n",
    "\n",
    "days_until_new_years_2024 = (new_years_eve - current_date).days\n",
    "\n",
    "print(days_until_new_years_2024)"
   ]
  },
  {
   "cell_type": "markdown",
   "id": "2ba4ea92",
   "metadata": {},
   "source": [
    "#### 7. Write a short program that displays the future value of 1,000 earning 5%  at the end of each year for the next 5 years"
   ]
  },
  {
   "cell_type": "code",
   "execution_count": 42,
   "id": "6fef4a8c",
   "metadata": {},
   "outputs": [
    {
     "name": "stdout",
     "output_type": "stream",
     "text": [
      "Year 1: $1050.0\n",
      "Year 2: $1102.5\n",
      "Year 3: $1157.63\n",
      "Year 4: $1215.51\n",
      "Year 5: $1276.28\n"
     ]
    }
   ],
   "source": [
    "initial_value = 1000\n",
    "\n",
    "interest_rate = 0.05\n",
    "\n",
    "periods = 5\n",
    "    \n",
    "for periods in range(1, periods + 1):\n",
    "    future_value = initial_value * (1 + interest_rate) ** periods\n",
    "    print(f\"Year {periods}: ${round(future_value, 2)}\")\n",
    "\n",
    "# I am assuming you want the value compounded year after year   "
   ]
  },
  {
   "cell_type": "markdown",
   "id": "150201c8",
   "metadata": {},
   "source": [
    "#### 8. Write a short program that prompts a user to enter a stock symbol and press enter. Add each symbol entered to a variable. The program should run until the user presses the enter key without entering anything (empty string) "
   ]
  },
  {
   "cell_type": "code",
   "execution_count": 1,
   "id": "931a346f",
   "metadata": {},
   "outputs": [
    {
     "name": "stdout",
     "output_type": "stream",
     "text": [
      "Enter a stock symbol (enter to submit): s\n",
      "Enter a stock symbol (enter to submit): d\n",
      "Enter a stock symbol (enter to submit): f\n",
      "Enter a stock symbol (enter to submit): w\n",
      "Enter a stock symbol (enter to submit): \n",
      "Stock symbols you submitted: ['s', 'd', 'f', 'w']\n"
     ]
    }
   ],
   "source": [
    "stock_symbol = []\n",
    "\n",
    "while True:\n",
    "    symbol = input(\"Enter a stock symbol (enter to submit): \")\n",
    "    if not symbol:\n",
    "        break\n",
    "\n",
    "    stock_symbol.append(symbol)\n",
    "\n",
    "print(\"Stock symbols you submitted:\", stock_symbol)"
   ]
  },
  {
   "cell_type": "markdown",
   "id": "fc2a7592",
   "metadata": {},
   "source": [
    "#### 9. Write the code necessary to calculate the sum of the square differences of a group of values : \n",
    "58, 32, 37, 41, 36, 36, 54, 37, 25, 53\n",
    "##### $\\Sigma $(${x}$ - $\\bar{x}$)$^2$"
   ]
  },
  {
   "cell_type": "code",
   "execution_count": 45,
   "id": "bdb52b86",
   "metadata": {},
   "outputs": [
    {
     "name": "stdout",
     "output_type": "stream",
     "text": [
      "1020.9000000000001\n"
     ]
    }
   ],
   "source": [
    "import statistics\n",
    "\n",
    "values = [58, 32, 37, 41, 36, 36, 54, 37, 25, 53]\n",
    "\n",
    "mean_values = statistics.mean(values)\n",
    "\n",
    "sum_of_squared_diff = sum((x - mean_values) ** 2 for x in values)\n",
    "\n",
    "print(sum_of_squared_diff)\n"
   ]
  },
  {
   "cell_type": "markdown",
   "id": "6d6f2e64",
   "metadata": {},
   "source": [
    "#### 10. Opening, reading and writing files"
   ]
  },
  {
   "cell_type": "code",
   "execution_count": 6,
   "id": "f7fa569d",
   "metadata": {
    "scrolled": true
   },
   "outputs": [
    {
     "name": "stdout",
     "output_type": "stream",
     "text": [
      "They're selling postcards of the hanging, they're painting the passports brown\n",
      "The beauty parlor is filled with sailors, the circus is in town\n",
      "Here comes the blind commissioner, they've got him in a trance\n",
      "One hand is tied to the tight-rope walker, the other is in his pants\n",
      "And the riot squad they're restless, they need somewhere to go\n",
      "As Lady and I look out tonight, from Desolation Row\n",
      "Cinderella, she seems so easy, \"It takes one to know one, \" she smiles\n",
      "And puts her hands in her back pockets Bette Davis style\n",
      "And in comes Romeo, he's moaning. \"You Belong to Me I Believe\"\n",
      "And someone says, \"You're in the wrong place, my friend, you'd better leave\"\n",
      "And the only sound that's left after the ambulances go\n",
      "Is Cinderella sweeping up on Desolation Row\n",
      "Now the moon is almost hidden, the stars are beginning to hide\n",
      "The fortune telling lady has even taken all her things inside\n",
      "All except for Cain and Abel and the hunchback of Notre Dame\n",
      "Everybody is making love or else expecting rain\n",
      "And the Good Samaritan, he's dressing, he's getting ready for the show\n",
      "He's going to the carnival tonight on Desolation Row\n",
      "Ophelia, she's 'neath the window for her I feel so afraid\n",
      "On her twenty-second birthday she already is an old maid\n",
      "To her, death is quite romantic she wears an iron vest\n",
      "Her profession's her religion, her sin is her lifelessness\n",
      "And though her eyes are fixed upon Noah's great rainbow\n",
      "She spends her time peeking into Desolation Row\n",
      "Einstein, disguised as Robin Hood with his memories in a trunk\n",
      "Passed this way an hour ago with his friend, a jealous monk\n",
      "Now he looked so immaculately frightful as he bummed a cigarette\n",
      "And he when off sniffing drainpipes and reciting the alphabet\n",
      "You would not think to look at him, but he was famous long ago\n",
      "For playing the electric violin on Desolation Row\n",
      "Dr. Filth, he keeps his world inside of a leather cup\n",
      "But all his sexless patients, they're trying to blow it up\n",
      "Now his nurse, some local loser, she's in charge of the cyanide hole\n",
      "And she also keeps the cards that read, \"Have Mercy on His Soul\"\n",
      "They all play on the penny whistles, you can hear them blow\n",
      "If you lean your head out far enough from Desolation Row\n",
      "Across the street they've nailed the curtains, they're getting ready for the feast\n",
      "The Phantom of the Opera in a perfect image of a priest\n",
      "They are spoon feeding Casanova to get him to feel more assured\n",
      "Then they'll kill him with self-confidence after poisoning him with words\n",
      "And the Phantom's shouting to skinny girls, \"Get outta here if you don't know\"\n",
      "Casanova is just being punished for going to Desolation Row\"\n",
      "At midnight all the agents and the superhuman crew\n",
      "Come out and round up everyone that knows more than they do\n",
      "Then they bring them to the factory where the heart-attack machine\n",
      "Is strapped across their shoulders and then the kerosene\n",
      "Is brought down from the castles by insurance men who go\n",
      "Check to see that nobody is escaping to Desolation Row\n",
      "Praise be to Nero's Neptune, the Titanic sails at dawn\n",
      "Everybody's shouting, \"Which side are you on?!\"\n",
      "And Ezra Pound and T.S. Eliot fighting in the captain's tower\n",
      "While calypso singers laugh at them and fishermen hold flowers\n",
      "Between the windows of the sea where lovely mermaids flow\n",
      "And nobody has to think too much about Desolation Row\n",
      "Yes, I received your letter yesterday, about the time the doorknob broke\n",
      "When you asked me how I was doing, was that some kind of joke\n",
      "All these people that you mention, yes, I know them, they're quite lame\n",
      "I had to rearrange their faces and give them all another name\n",
      "Right now, I can't read too good, don't send me no more letters no\n",
      "Not unless you mail them from Desolation Row\n"
     ]
    }
   ],
   "source": [
    "# In Python we can open, read and write on files, for example: \n",
    "# To open a file for reading\n",
    "# with open('file name', 'r') as name_you_want:\n",
    "#    content = name_you_want.read()\n",
    "#    print(content)\n",
    "# To open a file for writing\n",
    "# with open('file name', 'w') as file:\n",
    "#    name_you_want.write('This is an example')\n",
    "\n",
    "path = \"desolation_row.txt\"\n",
    "with open(path, 'r') as df:\n",
    "    content = df.read()\n",
    "    print(content)\n",
    "    df.close()"
   ]
  },
  {
   "cell_type": "markdown",
   "id": "eec548d6",
   "metadata": {},
   "source": [
    "#### 11. Create a function the will simulate rolling two die and return the value of each and and the sum "
   ]
  },
  {
   "cell_type": "code",
   "execution_count": 53,
   "id": "bb115cdc",
   "metadata": {},
   "outputs": [
    {
     "name": "stdout",
     "output_type": "stream",
     "text": [
      "Dice 1: 1\n",
      "Dice 2: 6\n",
      "Sum: 7\n"
     ]
    }
   ],
   "source": [
    "def roll_two_dice():\n",
    "    dice1 = random.randint(1, 6)\n",
    "    dice2 = random.randint(1, 6)  \n",
    "    total = dice1 + dice2\n",
    "    \n",
    "    return dice1, dice2, total\n",
    "\n",
    "result = roll_two_dice()\n",
    "print(\"Dice 1:\", result[0])\n",
    "print(\"Dice 2:\", result[1])\n",
    "print(\"Sum:\", result[2])"
   ]
  },
  {
   "cell_type": "markdown",
   "id": "21556d7f",
   "metadata": {},
   "source": [
    "#### 12. Write the code needed to evaluate whether a value in a group of values is negative or postive and prints an approriate message, i.e. postive, negative \n",
    "-1.59, 2.36, 1.69, 1.13, -0.91, 1.48, -0.34, 1.31, -0.74, 0.2"
   ]
  },
  {
   "cell_type": "code",
   "execution_count": 56,
   "id": "d6c38ecb",
   "metadata": {},
   "outputs": [
    {
     "name": "stdout",
     "output_type": "stream",
     "text": [
      "-1.59 : negative\n",
      "2.36 : positive\n",
      "1.69 : positive\n",
      "1.13 : positive\n",
      "-0.91 : negative\n",
      "1.48 : positive\n",
      "-0.34 : negative\n",
      "1.31 : positive\n",
      "-0.74 : negative\n",
      "0.2 : positive\n"
     ]
    }
   ],
   "source": [
    "values = [-1.59, 2.36, 1.69, 1.13, -0.91, 1.48, -0.34, 1.31, -0.74, 0.2]\n",
    "\n",
    "for value in values:\n",
    "    if value > 0:\n",
    "        print(f\"{value} : positive\")\n",
    "    else:\n",
    "        print(f\"{value} : negative\")"
   ]
  },
  {
   "cell_type": "markdown",
   "id": "8cafe65c",
   "metadata": {},
   "source": [
    "#### 14.  Complete the following:\n",
    "1. Write a program that generates 500 random integers from 1 to n, for example, the first integer will be 1 the second will be 1 or 2, the fifth between 1 and 5, and so on.\n",
    "2. The program should write each integer to a file \n",
    "3. Once all integers are written close the file\n",
    "\n",
    "##### Part 2\n",
    "1. Open and read the file into a list\n",
    "2. Create a line plot of the data"
   ]
  },
  {
   "cell_type": "code",
   "execution_count": 9,
   "id": "aaefba17",
   "metadata": {},
   "outputs": [],
   "source": [
    "import matplotlib.pyplot as plt"
   ]
  },
  {
   "cell_type": "code",
   "execution_count": 71,
   "id": "60a910bb",
   "metadata": {},
   "outputs": [],
   "source": [
    "def generate_and_write_random_integers(filename, n):\n",
    "    with open(filename, 'w') as file:\n",
    "        for number in range(1, 501):\n",
    "            random_integer = random.randint(1, i)\n",
    "            file.write(f\"{random_integer}\\n\")\n",
    "\n",
    "generate_and_write_random_integers('random_integers.txt', 500)\n",
    "# I am assuming that n = 500"
   ]
  },
  {
   "cell_type": "code",
   "execution_count": 10,
   "id": "d6b4180c",
   "metadata": {},
   "outputs": [
    {
     "name": "stdout",
     "output_type": "stream",
     "text": [
      "[1, 1, 2, 4, 4, 6, 4, 8, 8, 9, 8, 3, 13, 2, 5, 16, 1, 6, 10, 13, 18, 7, 22, 23, 6, 25, 7, 25, 6, 6, 12, 13, 9, 1, 18, 34, 31, 18, 26, 37, 23, 40, 20, 1, 36, 2, 28, 34, 14, 5, 26, 8, 38, 30, 36, 30, 50, 37, 28, 3, 31, 54, 56, 32, 31, 23, 12, 51, 12, 19, 67, 1, 30, 47, 64, 16, 41, 58, 46, 47, 35, 74, 76, 11, 72, 69, 32, 56, 27, 79, 47, 18, 48, 22, 77, 3, 25, 74, 78, 55, 14, 28, 52, 55, 9, 37, 37, 20, 76, 96, 40, 42, 10, 93, 20, 43, 81, 72, 26, 113, 55, 63, 66, 39, 19, 118, 57, 45, 68, 38, 101, 120, 117, 120, 91, 83, 72, 39, 138, 129, 110, 46, 112, 10, 12, 48, 132, 79, 136, 148, 66, 79, 14, 130, 21, 99, 95, 75, 82, 53, 139, 113, 82, 158, 30, 27, 156, 140, 104, 74, 154, 140, 61, 70, 173, 82, 138, 89, 66, 104, 118, 123, 63, 87, 108, 171, 7, 178, 61, 33, 37, 86, 33, 24, 195, 125, 121, 70, 53, 131, 40, 70, 64, 30, 49, 96, 172, 76, 50, 47, 146, 100, 153, 135, 38, 148, 144, 38, 129, 10, 30, 83, 10, 148, 79, 60, 112, 208, 132, 163, 109, 205, 156, 42, 208, 88, 86, 144, 126, 237, 240, 114, 213, 62, 147, 51, 77, 168, 25, 24, 235, 98, 100, 119, 48, 105, 77, 108, 221, 155, 146, 19, 139, 126, 150, 204, 14, 84, 61, 22, 228, 35, 104, 184, 163, 128, 142, 97, 125, 173, 267, 105, 19, 86, 208, 16, 68, 151, 167, 25, 239, 27, 68, 196, 115, 254, 285, 78, 105, 82, 290, 151, 192, 57, 25, 144, 177, 266, 198, 180, 12, 124, 105, 295, 245, 208, 99, 259, 168, 42, 3, 157, 247, 55, 265, 8, 263, 75, 251, 271, 156, 163, 116, 252, 189, 243, 240, 139, 304, 95, 23, 319, 127, 305, 255, 124, 129, 120, 176, 37, 202, 209, 314, 188, 326, 321, 147, 100, 209, 273, 249, 313, 196, 71, 148, 336, 214, 130, 167, 241, 127, 196, 116, 361, 298, 128, 4, 87, 138, 78, 148, 197, 214, 359, 103, 271, 145, 116, 330, 251, 16, 374, 315, 108, 251, 355, 335, 103, 159, 377, 150, 195, 177, 113, 324, 21, 42, 41, 312, 118, 64, 386, 205, 409, 340, 255, 84, 51, 416, 2, 381, 407, 5, 302, 240, 324, 106, 378, 93, 380, 24, 374, 426, 238, 355, 337, 318, 22, 312, 365, 50, 338, 252, 274, 185, 213, 239, 347, 218, 256, 208, 408, 402, 78, 351, 314, 113, 395, 202, 20, 446, 114, 54, 212, 302, 119, 64, 258, 446, 82, 393, 137, 185, 21, 261, 390, 75, 294, 113, 95, 411, 159, 196, 124, 394, 139, 480, 331, 483, 430, 200, 409, 140, 315, 338, 27, 495, 63, 343, 29]\n"
     ]
    },
    {
     "data": {
      "image/png": "[encoded data removed]",
      "text/plain": [
       "<Figure size 640x480 with 1 Axes>"
      ]
     },
     "metadata": {},
     "output_type": "display_data"
    }
   ],
   "source": [
    "def read_file_into_list(filename):\n",
    "    with open(filename, 'r') as file:\n",
    "        return [int(line.strip()) for line in file]\n",
    "\n",
    "def create_line_plot(data):\n",
    "    plt.plot(data)\n",
    "    plt.title(\"Line Plot of Random Integers\")\n",
    "    plt.show()\n",
    "\n",
    "data_list = read_file_into_list('random_integers.txt')\n",
    "print(data_list)\n",
    "\n",
    "create_line_plot(data_list)"
   ]
  },
  {
   "cell_type": "code",
   "execution_count": null,
   "id": "adb6aa11",
   "metadata": {},
   "outputs": [],
   "source": []
  },
  {
   "cell_type": "code",
   "execution_count": null,
   "id": "6745da79",
   "metadata": {},
   "outputs": [],
   "source": []
  },
  {
   "cell_type": "code",
   "execution_count": null,
   "id": "21140445",
   "metadata": {},
   "outputs": [],
   "source": []
  },
  {
   "cell_type": "code",
   "execution_count": null,
   "id": "3d546600",
   "metadata": {},
   "outputs": [],
   "source": []
  }
 ],
 "metadata": {
  "kernelspec": {
   "display_name": "Python 3 (ipykernel)",
   "language": "python",
   "name": "python3"
  },
  "language_info": {
   "codemirror_mode": {
    "name": "ipython",
    "version": 3
   },
   "file_extension": ".py",
   "mimetype": "text/x-python",
   "name": "python",
   "nbconvert_exporter": "python",
   "pygments_lexer": "ipython3",
   "version": "3.11.5"
  }
 },
 "nbformat": 4,
 "nbformat_minor": 5
}
